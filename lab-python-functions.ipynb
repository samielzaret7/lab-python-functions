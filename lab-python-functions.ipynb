{
 "cells": [
  {
   "cell_type": "markdown",
   "id": "25d7736c-ba17-4aff-b6bb-66eba20fbf4e",
   "metadata": {},
   "source": [
    "# Lab | Functions"
   ]
  },
  {
   "cell_type": "markdown",
   "id": "0c581062-8967-4d93-b06e-62833222f930",
   "metadata": {
    "tags": []
   },
   "source": [
    "## Exercise: Managing Customer Orders with Functions\n",
    "\n",
    "In the previous exercise, you improved the code for managing customer orders by using loops and flow control. Now, let's take it a step further and refactor the code by introducing functions.\n",
    "\n",
    "Follow the steps below to complete the exercise:\n",
    "\n",
    "1. Define a function named `initialize_inventory` that takes `products` as a parameter. Inside the function, implement the code for initializing the inventory dictionary using a loop and user input.\n",
    "\n",
    "2. Define a function named `get_customer_orders` that takes no parameters. Inside the function, implement the code for prompting the user to enter the product names using a loop. The function should return the `customer_orders` set.\n",
    "\n",
    "3. Define a function named `update_inventory` that takes `customer_orders` and `inventory` as parameters. Inside the function, implement the code for updating the inventory dictionary based on the customer orders.\n",
    "\n",
    "4. Define a function named `calculate_order_statistics` that takes `customer_orders` and `products` as parameters. Inside the function, implement the code for calculating the order statistics (total products ordered, and percentage of unique products ordered). The function should return these values.\n",
    "\n",
    "5. Define a function named `print_order_statistics` that takes `order_statistics` as a parameter. Inside the function, implement the code for printing the order statistics.\n",
    "\n",
    "6. Define a function named `print_updated_inventory` that takes `inventory` as a parameter. Inside the function, implement the code for printing the updated inventory.\n",
    "\n",
    "7. Call the functions in the appropriate sequence to execute the program and manage customer orders.\n",
    "\n",
    "Hints for functions:\n",
    "\n",
    "- Consider the input parameters required for each function and their return values.\n",
    "- Utilize function parameters and return values to transfer data between functions.\n",
    "- Test your functions individually to ensure they work correctly.\n",
    "\n",
    "\n"
   ]
  },
  {
   "cell_type": "code",
   "execution_count": 23,
   "id": "09c7e3ce",
   "metadata": {},
   "outputs": [],
   "source": [
    "#1. Define a function named initialize_inventory that takes products as a parameter. \n",
    "#Inside the function, implement the code for initializing the inventory dictionary using \n",
    "# a loop and user input.\n",
    "\n",
    "def initialize_inventory(products):\n",
    "    inventory = {}\n",
    "    for q in products:\n",
    "        inventory[q] = None\n",
    "        \n",
    "    for value in inventory:\n",
    "        quantity = input(f\"How much of {value} is available: \")\n",
    "        while quantity.isdigit() != True:\n",
    "            print(\"Please enter a integer number.\")\n",
    "            quantity = input(f\"How much of {value} is available: \")\n",
    "        else:\n",
    "            inventory[value] = int(quantity)\n",
    "    return inventory\n",
    "        \n",
    "\n",
    "    "
   ]
  },
  {
   "cell_type": "code",
   "execution_count": 24,
   "id": "df6dd6fd",
   "metadata": {},
   "outputs": [],
   "source": [
    "#2. Define a function named get_customer_orders that takes no parameters. \n",
    "# Inside the function, implement the code for prompting the user to enter the \n",
    "# product names using a loop. The function should return \n",
    "# the customer_orders set.\n",
    "\n",
    "def get_customer_orders():\n",
    "    customer_orders = set()\n",
    "    user_done = False\n",
    "    while user_done == False:\n",
    "        products_customer = input(\"What item would you like to order?: \")\n",
    "        while products_customer not in products or products_customer in customer_orders:\n",
    "                if products_customer not in products:\n",
    "                    print(\"Not valid entry\")\n",
    "                    products_customer = input(\"What item would you like to order?: \")\n",
    "                elif products_customer in customer_orders:\n",
    "                    print(\"No duplicates!\")\n",
    "                    products_customer = input(\"What item would you like to order?: \")\n",
    "                \n",
    "        else:\n",
    "            customer_orders.add(products_customer)\n",
    "            if len(products)==len(customer_orders):\n",
    "                    print(\"No more products to order.\")\n",
    "                    print(\"Thank you for your order!\")\n",
    "                    user_done = True\n",
    "            elif len(customer_orders) < len(products):\n",
    "                confirmation = input(\"Are you done? Y for yes and N for no: \")\n",
    "                confirmation_input = confirmation.lower().lstrip()\n",
    "                    \n",
    "            while confirmation_input != 'y' and confirmation_input != 'n':\n",
    "                confirmation = input(\"Please type only 'y' or 'n'. Are you done?: \")\n",
    "                confirmation_input = confirmation.lower().lstrip()\n",
    "            else:\n",
    "                if confirmation_input == 'y':\n",
    "                    print(\"Thank you for your order!\")\n",
    "                    user_done = True\n",
    "    return customer_orders"
   ]
  },
  {
   "cell_type": "code",
   "execution_count": 25,
   "id": "a4ce2d9a",
   "metadata": {},
   "outputs": [],
   "source": [
    "# 3. Define a function named update_inventory that takes customer_orders and inventory \n",
    "# as parameters. Inside the function, implement the code for updating the \n",
    "# inventory dictionary based on the customer orders.\n",
    "\n",
    "def update_inventory(customer_orders,inventory):\n",
    "    for product in customer_orders:\n",
    "        inventory[product]-=1\n",
    "    return inventory"
   ]
  },
  {
   "cell_type": "code",
   "execution_count": 26,
   "id": "fd8a84ac",
   "metadata": {},
   "outputs": [],
   "source": [
    "# 4. Define a function named calculate_order_statistics that takes customer_orders \n",
    "# and products as parameters. Inside the function, implement the code for \n",
    "# calculating the order statistics (total products ordered, and percentage \n",
    "# of unique products ordered). The function should return these values.\n",
    "\n",
    "def calculate_order_statistics(customer_orders,products,inventory):\n",
    "    total_products_ordered=len(customer_orders)\n",
    "    available_products=sum(inventory.values())\n",
    "    order_status = (total_products_ordered,available_products)\n",
    "    percentage = (order_status[0]/order_status[1])*float(100)\n",
    "    \n",
    "    return total_products_ordered, percentage"
   ]
  },
  {
   "cell_type": "code",
   "execution_count": 27,
   "id": "40349dc8",
   "metadata": {},
   "outputs": [],
   "source": [
    "#5. Define a function named print_order_statistics that takes order_statistics\n",
    "# as a parameter. Inside the function, implement the code for printing \n",
    "# the order statistics.\n",
    "\n",
    "def print_order_statistics(order_statistics):\n",
    "    print(\"Total Products Ordered:\", order_statistics[0])\n",
    "    print(\"Percentage of Products Ordered:\", order_statistics[1],\"%\")"
   ]
  },
  {
   "cell_type": "code",
   "execution_count": 28,
   "id": "11ad89d5",
   "metadata": {},
   "outputs": [],
   "source": [
    "# 6. Define a function named print_updated_inventory that takes inventory \n",
    "# as a parameter. Inside the function, implement the code for \n",
    "# printing the updated inventory.\n",
    "\n",
    "def print_updated_inventory(inventory):\n",
    "    print('Updated Inventory')\n",
    "    for key,value in inventory.items():\n",
    "        print(key,\":\",value)"
   ]
  },
  {
   "cell_type": "code",
   "execution_count": 29,
   "id": "6b17ef9f",
   "metadata": {},
   "outputs": [
    {
     "name": "stdout",
     "output_type": "stream",
     "text": [
      "How much of t-shirt is available: 10\n",
      "How much of mug is available: 9\n",
      "How much of hat is available: 8\n",
      "How much of book is available: 7\n",
      "How much of keychain is available: 6\n",
      "What item would you like to order?: t-shirt\n",
      "Are you done? Y for yes and N for no: n\n",
      "What item would you like to order?: mug\n",
      "Are you done? Y for yes and N for no: n\n",
      "What item would you like to order?: t-shirt\n",
      "No duplicates!\n",
      "What item would you like to order?: hat\n",
      "Are you done? Y for yes and N for no: y\n",
      "Thank you for your order!\n",
      "Total Products Ordered: 3\n",
      "Percentage of Products Ordered: 8.108108108108109 %\n",
      "Updated Inventory\n",
      "t-shirt : 9\n",
      "mug : 8\n",
      "hat : 7\n",
      "book : 7\n",
      "keychain : 6\n"
     ]
    }
   ],
   "source": [
    "#7. Call the functions in the appropriate sequence to execute the program \n",
    "# and manage customer orders.\n",
    "\n",
    "products = [\"t-shirt\", \"mug\", \"hat\", \"book\", \"keychain\"]\n",
    "x = initialize_inventory(products)\n",
    "y = get_customer_orders()\n",
    "update_inventory(y,x)\n",
    "order_statistics = calculate_order_statistics(y,products,x)\n",
    "print_order_statistics(order_statistics)\n",
    "print_updated_inventory(x)"
   ]
  }
 ],
 "metadata": {
  "kernelspec": {
   "display_name": "Python 3 (ipykernel)",
   "language": "python",
   "name": "python3"
  },
  "language_info": {
   "codemirror_mode": {
    "name": "ipython",
    "version": 3
   },
   "file_extension": ".py",
   "mimetype": "text/x-python",
   "name": "python",
   "nbconvert_exporter": "python",
   "pygments_lexer": "ipython3",
   "version": "3.11.5"
  }
 },
 "nbformat": 4,
 "nbformat_minor": 5
}
